{
 "cells": [
  {
   "cell_type": "code",
   "execution_count": 2,
   "id": "7c4a3ac9",
   "metadata": {},
   "source": [
    "%run template.ipynb\n",
    "\n",
    "from vkr.utils import google, tqdm, string_utils\n",
    "from vkr.utils.vkr_root import VKR_ROOT\n",
    "\n",
    "import pandas as pd"
   ],
   "outputs": []
  },
  {
   "cell_type": "code",
   "execution_count": 2,
   "id": "15d65cfc",
   "metadata": {},
   "source": [
    "df = pd.read_csv(VKR_ROOT / 'data/datasets/validation.csv')\n",
    "news = df['news'].map(string_utils.normalize).values"
   ],
   "outputs": []
  },
  {
   "cell_type": "code",
   "execution_count": 23,
   "id": "576916c2",
   "metadata": {},
   "source": [
    "df = pd.read_csv(VKR_ROOT / 'data/datasets/kaggle/Fake.csv')\n",
    "news = df['title'].map(string_utils.normalize).values"
   ],
   "outputs": []
  },
  {
   "cell_type": "code",
   "execution_count": 24,
   "id": "bfba705c",
   "metadata": {},
   "source": [
    "news"
   ],
   "outputs": []
  },
  {
   "cell_type": "code",
   "execution_count": 26,
   "id": "e811ede3",
   "metadata": {
    "collapsed": true,
    "jupyter": {
     "outputs_hidden": true
    }
   },
   "source": [
    "BATCH_SIZE = 100\n",
    "for api_key in google.API_KEYS:\n",
    "    used_credits = 0\n",
    "    try:\n",
    "        for i in (pbar := tqdm.tqdm(range(0, len(news), BATCH_SIZE))):\n",
    "            _, credits = google.serper_search(news[i:i + BATCH_SIZE], api_key, lang='en')\n",
    "            used_credits += credits\n",
    "            pbar.set_description(f'Googling... Used credits = {used_credits}')\n",
    "        break\n",
    "    except:\n",
    "        print(f\"api_key '{api_key}' expired\")\n",
    "        pass"
   ],
   "outputs": []
  },
  {
   "cell_type": "code",
   "execution_count": 14,
   "id": "7e71fd95",
   "metadata": {
    "collapsed": true,
    "jupyter": {
     "outputs_hidden": true
    }
   },
   "source": [
    "# TODO: use \"answerBox\"\n",
    "len(news)\n",
    "google_results = google.serper_search(news[:500], api_key=None)[0]\n",
    "len(google_results)\n",
    "google_results[300]"
   ],
   "outputs": []
  }
 ],
 "metadata": {
  "kernelspec": {
   "display_name": "Python 3 (ipykernel)",
   "language": "python",
   "name": "python3"
  },
  "language_info": {
   "codemirror_mode": {
    "name": "ipython",
    "version": 3
   },
   "file_extension": ".py",
   "mimetype": "text/x-python",
   "name": "python",
   "nbconvert_exporter": "python",
   "pygments_lexer": "ipython3",
   "version": "3.12.2"
  }
 },
 "nbformat": 4,
 "nbformat_minor": 5
}
