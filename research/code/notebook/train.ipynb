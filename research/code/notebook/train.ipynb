{
 "cells": [
  {
   "cell_type": "code",
   "id": "beb864ad-a3fa-4cfe-8773-d3924973810c",
   "metadata": {
    "scrolled": true
   },
   "source": [
    "!pip install pandas matplotlib scikit-learn transformers optimum auto-gptq matplotlib seaborn deep_translator pony"
   ],
   "outputs": [],
   "execution_count": null
  },
  {
   "cell_type": "code",
   "id": "5b9c5a0d",
   "metadata": {},
   "source": [
    "%run template.ipynb\n",
    "\n",
    "import torch\n",
    "import pickle\n",
    "import pandas as pd\n",
    "\n",
    "from transformers import BertTokenizer\n",
    "\n",
    "from vkr.ml import model, dataset, train\n",
    "from vkr.llm import saiga_llama3\n",
    "from vkr.data import datasets\n",
    "from vkr.utils.vkr_root import VKR_ROOT"
   ],
   "outputs": [],
   "execution_count": null
  },
  {
   "cell_type": "code",
   "id": "74a016f6",
   "metadata": {},
   "source": [
    "device = torch.device(\"cuda\" if torch.cuda.is_available() else \"cpu\")\n",
    "tokenizer = BertTokenizer.from_pretrained('DeepPavlov/rubert-base-cased')\n",
    "bert = torch.nn.DataParallel(model.BertForBinaryClassification('DeepPavlov/rubert-base-cased')).to(\n",
    "    device)"
   ],
   "outputs": [],
   "execution_count": null
  },
  {
   "cell_type": "code",
   "id": "b4bccf44",
   "metadata": {},
   "source": [
    "SMALL = False\n",
    "MEDIUM = 0\n",
    "\n",
    "# dts = [\n",
    "#     ('WELFake', datasets.Welfake(VKR_ROOT / 'data/datasets/WELFake_Dataset.csv', True)),\n",
    "#     ('FakeNews', datasets.FakeNewsPredictions(VKR_ROOT / 'data/datasets/FakeNewsPrediction.csv', True)),\n",
    "# ]\n",
    "dts = [\n",
    "    ('Russian_WELFake',\n",
    "     datasets.RussianWelfake(VKR_ROOT / 'data/datasets/Russian_WELFake_Dataset.csv',\n",
    "                             [saiga_llama3.prompt_1, saiga_llama3.prompt_2,\n",
    "                              saiga_llama3.prompt_3])),\n",
    "    ('Kaggle', datasets.RussianKaggle(VKR_ROOT / 'data/datasets/russian_kaggle',\n",
    "                                      [saiga_llama3.prompt_1, saiga_llama3.prompt_2,\n",
    "                                       saiga_llama3.prompt_3])),\n",
    "]\n",
    "train_datas = []\n",
    "val_datas = []\n",
    "for dt_name, dt in dts:\n",
    "    train_, test_ = dt.get_train_test()\n",
    "    if SMALL:\n",
    "        train_ = train_.sample(100)\n",
    "        test_ = test_.sample(100)\n",
    "    if MEDIUM > 0:\n",
    "        train_ = train_.sample(len(train_) // MEDIUM)\n",
    "        test_ = train_.sample(len(test_) // MEDIUM)\n",
    "    train_datas.append(train_)\n",
    "    val_datas.append((dt_name, test_))"
   ],
   "outputs": [],
   "execution_count": null
  },
  {
   "cell_type": "code",
   "id": "a72fd8ec-59f2-4627-84a7-b4287ab318c6",
   "metadata": {},
   "source": [
    "BATCH_SIZE = 32\n",
    "\n",
    "train_dataset = dataset.NewsDataset(pd.concat(train_datas), tokenizer)\n",
    "train_loader = dataset.create_weighted_dataloader(train_dataset, batch_size=BATCH_SIZE)\n",
    "\n",
    "val_loaders = [\n",
    "    (phase_name, dataset.create_standard_dataloader(dataset.NewsDataset(val_data, tokenizer),\n",
    "                                                    batch_size=BATCH_SIZE))\n",
    "    for phase_name, val_data in val_datas\n",
    "]"
   ],
   "outputs": [],
   "execution_count": null
  },
  {
   "cell_type": "code",
   "id": "d8dd8be9",
   "metadata": {},
   "source": [
    "optimizer = torch.optim.Adam(bert.parameters(), lr=3e-5)\n",
    "criterion = torch.nn.BCEWithLogitsLoss()\n",
    "\n",
    "num_epochs = 10"
   ],
   "outputs": [],
   "execution_count": null
  },
  {
   "cell_type": "code",
   "id": "0b84b6f4",
   "metadata": {
    "scrolled": true
   },
   "source": [
    "train_results = train.train_binary(\n",
    "    bert,\n",
    "    train_loader,\n",
    "    val_loaders,\n",
    "    optimizer,\n",
    "    criterion,\n",
    "    num_epochs,\n",
    "    device,\n",
    ")\n",
    "torch.save(bert.state_dict(), 'ru_bert.torch')\n",
    "with open('ru_train_results.pkl', 'wb') as fout:\n",
    "    pickle.dump(train_results, fout)"
   ],
   "outputs": [],
   "execution_count": null
  }
 ],
 "metadata": {
  "kernelspec": {
   "display_name": "Python 3 (ipykernel)",
   "language": "python",
   "name": "python3"
  },
  "language_info": {
   "codemirror_mode": {
    "name": "ipython",
    "version": 3
   },
   "file_extension": ".py",
   "mimetype": "text/x-python",
   "name": "python",
   "nbconvert_exporter": "python",
   "pygments_lexer": "ipython3",
   "version": "3.12.2"
  }
 },
 "nbformat": 4,
 "nbformat_minor": 5
}
