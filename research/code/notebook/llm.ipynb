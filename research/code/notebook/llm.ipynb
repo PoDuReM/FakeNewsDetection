{
 "cells": [
  {
   "cell_type": "code",
   "execution_count": null,
   "id": "initial_id",
   "metadata": {
    "collapsed": true
   },
   "outputs": [],
   "source": [
    "%run template.ipynb\n",
    "\n",
    "from vkr.utils import tqdm\n",
    "from vkr.llm import saiga_llama3\n",
    "from vkr.data import datasets\n",
    "from vkr.utils.vkr_root import VKR_ROOT"
   ]
  },
  {
   "metadata": {},
   "cell_type": "code",
   "outputs": [],
   "execution_count": null,
   "source": [
    "dts = [\n",
    "    ('Russian_WELFake',\n",
    "     datasets.RussianWelfake(VKR_ROOT / 'data/datasets/Russian_WELFake_Dataset.csv')),\n",
    "    ('Kaggle', datasets.RussianKaggle(VKR_ROOT / 'data/datasets/russian_kaggle')),\n",
    "]"
   ],
   "id": "6e7f43ed0e7074b1"
  },
  {
   "metadata": {},
   "cell_type": "code",
   "outputs": [],
   "execution_count": null,
   "source": [
    "for i, prompt in enumerate([saiga_llama3.prompt_1, saiga_llama3.prompt_2, saiga_llama3.prompt_3]):\n",
    "    for dt_name, dt in dts:\n",
    "        df = dt.get_dataframe()\n",
    "        for title, text in tqdm.tqdm(zip(df['title'].values, df['text'].values),\n",
    "                                     desc=f'prompt #{i}, dts={dt_name}'):\n",
    "            saiga_llama3.get_query(title, text, prompt)"
   ],
   "id": "9946b7c4296ffd32"
  }
 ],
 "metadata": {
  "kernelspec": {
   "display_name": "Python 3",
   "language": "python",
   "name": "python3"
  },
  "language_info": {
   "codemirror_mode": {
    "name": "ipython",
    "version": 2
   },
   "file_extension": ".py",
   "mimetype": "text/x-python",
   "name": "python",
   "nbconvert_exporter": "python",
   "pygments_lexer": "ipython2",
   "version": "2.7.6"
  }
 },
 "nbformat": 4,
 "nbformat_minor": 5
}
