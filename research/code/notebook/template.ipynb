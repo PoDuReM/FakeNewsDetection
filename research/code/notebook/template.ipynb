{
 "cells": [
  {
   "cell_type": "code",
   "execution_count": 1,
   "id": "2d02707c",
   "metadata": {
    "execution": {
     "iopub.execute_input": "2024-04-10T21:40:08.931311Z",
     "iopub.status.busy": "2024-04-10T21:40:08.929824Z",
     "iopub.status.idle": "2024-04-10T21:40:08.963953Z",
     "shell.execute_reply": "2024-04-10T21:40:08.963606Z",
     "shell.execute_reply.started": "2024-04-10T21:40:08.931234Z"
    }
   },
   "outputs": [],
   "source": [
    "%load_ext autoreload\n",
    "%autoreload 2"
   ]
  },
  {
   "cell_type": "code",
   "execution_count": 2,
   "id": "2548c22d",
   "metadata": {
    "execution": {
     "iopub.execute_input": "2024-04-10T21:40:16.106557Z",
     "iopub.status.busy": "2024-04-10T21:40:16.105861Z",
     "iopub.status.idle": "2024-04-10T21:40:16.486509Z",
     "shell.execute_reply": "2024-04-10T21:40:16.486252Z",
     "shell.execute_reply.started": "2024-04-10T21:40:16.106524Z"
    }
   },
   "outputs": [],
   "source": [
    "import numpy as __np\n",
    "import pandas as __pd\n",
    "\n",
    "__np.set_printoptions(precision=4, suppress=True)\n",
    "__pd.options.display.float_format = '{:.4}'.format\n",
    "\n",
    "__np.bool = __np.bool_\n",
    "__np.int = __np.int_"
   ]
  },
  {
   "cell_type": "code",
   "execution_count": null,
   "id": "b23eba78",
   "metadata": {},
   "outputs": [],
   "source": [
    "from IPython.core.interactiveshell import InteractiveShell\n",
    "InteractiveShell.ast_node_interactivity = \"all\""
   ]
  }
 ],
 "metadata": {
  "kernelspec": {
   "display_name": "Python 3 (ipykernel)",
   "language": "python",
   "name": "python3"
  },
  "language_info": {
   "codemirror_mode": {
    "name": "ipython",
    "version": 3
   },
   "file_extension": ".py",
   "mimetype": "text/x-python",
   "name": "python",
   "nbconvert_exporter": "python",
   "pygments_lexer": "ipython3",
   "version": "3.12.2"
  }
 },
 "nbformat": 4,
 "nbformat_minor": 5
}
